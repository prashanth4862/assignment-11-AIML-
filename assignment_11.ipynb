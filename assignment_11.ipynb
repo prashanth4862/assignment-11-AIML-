{
 "cells": [
  {
   "cell_type": "code",
   "execution_count": null,
   "metadata": {},
   "outputs": [],
   "source": [
    "import pandas as pd\n",
    "from sklearn.model_selection import train_test_split\n",
    "from sklearn.metrics import accuracy_score, precision_score, recall_score, f1_score\n",
    "import xgboost as xgb\n",
    "from sklearn.ensemble import GradientBoostingClassifier\n",
    "\n",
    "# a) Read the data with pandas and find features and target variables\n",
    "df = pd.read_csv('breast_cancer_survival.csv')\n",
    "\n",
    "X = df.drop('archive', axis=1)  # features\n",
    "y = df['archive']  # target variable\n",
    "\n",
    "# Split data into training and testing sets\n",
    "X_train, X_test, y_train, y_test = train_test_split(X, y, test_size=0.2, random_state=42)\n",
    "\n",
    "# b) Train GBoost and XGBoost\n",
    "# Gradient Boosting\n",
    "gb = GradientBoostingClassifier(n_estimators=100, learning_rate=0.1, max_depth=5)\n",
    "gb.fit(X_train, y_train)\n",
    "\n",
    "# XGBoost\n",
    "xgb_model = xgb.XGBClassifier(objective='binary:logistic', max_depth=5, learning_rate=0.1, n_estimators=100)\n",
    "xgb_model.fit(X_train, y_train)\n",
    "\n",
    "# c) Find accuracy, precision, recall, f1-score\n",
    "# Gradient Boosting\n",
    "y_pred_gb = gb.predict(X_test)\n",
    "print(\"Gradient Boosting Metrics:\")\n",
    "print(\"Accuracy:\", accuracy_score(y_test, y_pred_gb))\n",
    "print(\"Precision:\", precision_score(y_test, y_pred_gb))\n",
    "print(\"Recall:\", recall_score(y_test, y_pred_gb))\n",
    "print(\"F1-score:\", f1_score(y_test, y_pred_gb))\n",
    "\n",
    "# XGBoost\n",
    "y_pred_xgb = xgb_model.predict(X_test)\n",
    "print(\"XGBoost Metrics:\")\n",
    "print(\"Accuracy:\", accuracy_score(y_test, y_pred_xgb))\n",
    "print(\"Precision:\", precision_score(y_test, y_pred_xgb))\n",
    "print(\"Recall:\", recall_score(y_test, y_pred_xgb))\n",
    "print(\"F1-score:\", f1_score(y_test, y_pred_xgb))"
   ]
  }
 ],
 "metadata": {
  "language_info": {
   "name": "python"
  }
 },
 "nbformat": 4,
 "nbformat_minor": 2
}
